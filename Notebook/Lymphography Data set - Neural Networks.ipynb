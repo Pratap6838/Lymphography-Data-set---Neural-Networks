{
 "cells": [
  {
   "cell_type": "markdown",
   "id": "e7a65926",
   "metadata": {},
   "source": [
    "# Lymphography Data set - Neural Networks"
   ]
  },
  {
   "cell_type": "code",
   "execution_count": 1,
   "id": "55743f80",
   "metadata": {},
   "outputs": [],
   "source": [
    "import numpy as np\n",
    "import pandas as pd\n",
    "import matplotlib.pyplot as plt\n",
    "import seaborn as sns\n",
    "import warnings\n",
    "warnings.filterwarnings('ignore')\n",
    "sns.set_style(\"whitegrid\")\n",
    "sns.set_context(\"poster\")\n",
    "\n",
    "%matplotlib inline"
   ]
  },
  {
   "cell_type": "code",
   "execution_count": 2,
   "id": "65f4f220",
   "metadata": {},
   "outputs": [],
   "source": [
    "### List columns names based on the description\n",
    "col_names = ['class', 'lymphatics', 'block of affere', 'bl. of lymph. c', 'bl. of lymph. s', 'by pass', \n",
    " 'extravasates', 'regeneration of', 'early uptake in', 'lym.nodes dimin', 'lym.nodes enlar', \n",
    "'changes in lym.', 'defect in node', 'changes in node', 'changes in stru', 'special forms', \n",
    "'dislocation of', 'exclusion of no', 'no. of nodes in']"
   ]
  },
  {
   "cell_type": "code",
   "execution_count": 3,
   "id": "2c6f7520",
   "metadata": {},
   "outputs": [
    {
     "data": {
      "text/html": [
       "<div>\n",
       "<style scoped>\n",
       "    .dataframe tbody tr th:only-of-type {\n",
       "        vertical-align: middle;\n",
       "    }\n",
       "\n",
       "    .dataframe tbody tr th {\n",
       "        vertical-align: top;\n",
       "    }\n",
       "\n",
       "    .dataframe thead th {\n",
       "        text-align: right;\n",
       "    }\n",
       "</style>\n",
       "<table border=\"1\" class=\"dataframe\">\n",
       "  <thead>\n",
       "    <tr style=\"text-align: right;\">\n",
       "      <th></th>\n",
       "      <th>class</th>\n",
       "      <th>lymphatics</th>\n",
       "      <th>block of affere</th>\n",
       "      <th>bl. of lymph. c</th>\n",
       "      <th>bl. of lymph. s</th>\n",
       "      <th>by pass</th>\n",
       "      <th>extravasates</th>\n",
       "      <th>regeneration of</th>\n",
       "      <th>early uptake in</th>\n",
       "      <th>lym.nodes dimin</th>\n",
       "      <th>lym.nodes enlar</th>\n",
       "      <th>changes in lym.</th>\n",
       "      <th>defect in node</th>\n",
       "      <th>changes in node</th>\n",
       "      <th>changes in stru</th>\n",
       "      <th>special forms</th>\n",
       "      <th>dislocation of</th>\n",
       "      <th>exclusion of no</th>\n",
       "      <th>no. of nodes in</th>\n",
       "    </tr>\n",
       "  </thead>\n",
       "  <tbody>\n",
       "    <tr>\n",
       "      <th>0</th>\n",
       "      <td>3</td>\n",
       "      <td>4</td>\n",
       "      <td>2</td>\n",
       "      <td>1</td>\n",
       "      <td>1</td>\n",
       "      <td>1</td>\n",
       "      <td>1</td>\n",
       "      <td>1</td>\n",
       "      <td>2</td>\n",
       "      <td>1</td>\n",
       "      <td>2</td>\n",
       "      <td>2</td>\n",
       "      <td>2</td>\n",
       "      <td>4</td>\n",
       "      <td>8</td>\n",
       "      <td>1</td>\n",
       "      <td>1</td>\n",
       "      <td>2</td>\n",
       "      <td>2</td>\n",
       "    </tr>\n",
       "    <tr>\n",
       "      <th>1</th>\n",
       "      <td>2</td>\n",
       "      <td>3</td>\n",
       "      <td>2</td>\n",
       "      <td>1</td>\n",
       "      <td>1</td>\n",
       "      <td>2</td>\n",
       "      <td>2</td>\n",
       "      <td>1</td>\n",
       "      <td>2</td>\n",
       "      <td>1</td>\n",
       "      <td>3</td>\n",
       "      <td>3</td>\n",
       "      <td>2</td>\n",
       "      <td>3</td>\n",
       "      <td>4</td>\n",
       "      <td>2</td>\n",
       "      <td>2</td>\n",
       "      <td>2</td>\n",
       "      <td>2</td>\n",
       "    </tr>\n",
       "    <tr>\n",
       "      <th>2</th>\n",
       "      <td>3</td>\n",
       "      <td>3</td>\n",
       "      <td>2</td>\n",
       "      <td>2</td>\n",
       "      <td>2</td>\n",
       "      <td>2</td>\n",
       "      <td>2</td>\n",
       "      <td>2</td>\n",
       "      <td>2</td>\n",
       "      <td>1</td>\n",
       "      <td>4</td>\n",
       "      <td>3</td>\n",
       "      <td>3</td>\n",
       "      <td>4</td>\n",
       "      <td>8</td>\n",
       "      <td>3</td>\n",
       "      <td>2</td>\n",
       "      <td>2</td>\n",
       "      <td>7</td>\n",
       "    </tr>\n",
       "    <tr>\n",
       "      <th>3</th>\n",
       "      <td>3</td>\n",
       "      <td>3</td>\n",
       "      <td>1</td>\n",
       "      <td>1</td>\n",
       "      <td>1</td>\n",
       "      <td>1</td>\n",
       "      <td>2</td>\n",
       "      <td>1</td>\n",
       "      <td>2</td>\n",
       "      <td>1</td>\n",
       "      <td>3</td>\n",
       "      <td>3</td>\n",
       "      <td>4</td>\n",
       "      <td>4</td>\n",
       "      <td>4</td>\n",
       "      <td>3</td>\n",
       "      <td>1</td>\n",
       "      <td>2</td>\n",
       "      <td>6</td>\n",
       "    </tr>\n",
       "    <tr>\n",
       "      <th>4</th>\n",
       "      <td>2</td>\n",
       "      <td>3</td>\n",
       "      <td>1</td>\n",
       "      <td>1</td>\n",
       "      <td>1</td>\n",
       "      <td>1</td>\n",
       "      <td>1</td>\n",
       "      <td>1</td>\n",
       "      <td>1</td>\n",
       "      <td>1</td>\n",
       "      <td>2</td>\n",
       "      <td>2</td>\n",
       "      <td>4</td>\n",
       "      <td>3</td>\n",
       "      <td>5</td>\n",
       "      <td>1</td>\n",
       "      <td>2</td>\n",
       "      <td>2</td>\n",
       "      <td>1</td>\n",
       "    </tr>\n",
       "    <tr>\n",
       "      <th>...</th>\n",
       "      <td>...</td>\n",
       "      <td>...</td>\n",
       "      <td>...</td>\n",
       "      <td>...</td>\n",
       "      <td>...</td>\n",
       "      <td>...</td>\n",
       "      <td>...</td>\n",
       "      <td>...</td>\n",
       "      <td>...</td>\n",
       "      <td>...</td>\n",
       "      <td>...</td>\n",
       "      <td>...</td>\n",
       "      <td>...</td>\n",
       "      <td>...</td>\n",
       "      <td>...</td>\n",
       "      <td>...</td>\n",
       "      <td>...</td>\n",
       "      <td>...</td>\n",
       "      <td>...</td>\n",
       "    </tr>\n",
       "    <tr>\n",
       "      <th>143</th>\n",
       "      <td>3</td>\n",
       "      <td>3</td>\n",
       "      <td>2</td>\n",
       "      <td>1</td>\n",
       "      <td>1</td>\n",
       "      <td>2</td>\n",
       "      <td>2</td>\n",
       "      <td>1</td>\n",
       "      <td>2</td>\n",
       "      <td>1</td>\n",
       "      <td>2</td>\n",
       "      <td>2</td>\n",
       "      <td>4</td>\n",
       "      <td>3</td>\n",
       "      <td>5</td>\n",
       "      <td>2</td>\n",
       "      <td>2</td>\n",
       "      <td>2</td>\n",
       "      <td>4</td>\n",
       "    </tr>\n",
       "    <tr>\n",
       "      <th>144</th>\n",
       "      <td>2</td>\n",
       "      <td>2</td>\n",
       "      <td>1</td>\n",
       "      <td>1</td>\n",
       "      <td>1</td>\n",
       "      <td>1</td>\n",
       "      <td>1</td>\n",
       "      <td>1</td>\n",
       "      <td>1</td>\n",
       "      <td>1</td>\n",
       "      <td>1</td>\n",
       "      <td>1</td>\n",
       "      <td>1</td>\n",
       "      <td>1</td>\n",
       "      <td>3</td>\n",
       "      <td>1</td>\n",
       "      <td>2</td>\n",
       "      <td>2</td>\n",
       "      <td>1</td>\n",
       "    </tr>\n",
       "    <tr>\n",
       "      <th>145</th>\n",
       "      <td>3</td>\n",
       "      <td>2</td>\n",
       "      <td>2</td>\n",
       "      <td>1</td>\n",
       "      <td>1</td>\n",
       "      <td>1</td>\n",
       "      <td>2</td>\n",
       "      <td>1</td>\n",
       "      <td>2</td>\n",
       "      <td>1</td>\n",
       "      <td>3</td>\n",
       "      <td>3</td>\n",
       "      <td>3</td>\n",
       "      <td>3</td>\n",
       "      <td>8</td>\n",
       "      <td>3</td>\n",
       "      <td>2</td>\n",
       "      <td>2</td>\n",
       "      <td>4</td>\n",
       "    </tr>\n",
       "    <tr>\n",
       "      <th>146</th>\n",
       "      <td>2</td>\n",
       "      <td>2</td>\n",
       "      <td>1</td>\n",
       "      <td>1</td>\n",
       "      <td>1</td>\n",
       "      <td>1</td>\n",
       "      <td>1</td>\n",
       "      <td>1</td>\n",
       "      <td>2</td>\n",
       "      <td>1</td>\n",
       "      <td>2</td>\n",
       "      <td>2</td>\n",
       "      <td>4</td>\n",
       "      <td>2</td>\n",
       "      <td>2</td>\n",
       "      <td>1</td>\n",
       "      <td>2</td>\n",
       "      <td>2</td>\n",
       "      <td>1</td>\n",
       "    </tr>\n",
       "    <tr>\n",
       "      <th>147</th>\n",
       "      <td>2</td>\n",
       "      <td>2</td>\n",
       "      <td>2</td>\n",
       "      <td>2</td>\n",
       "      <td>1</td>\n",
       "      <td>2</td>\n",
       "      <td>2</td>\n",
       "      <td>1</td>\n",
       "      <td>2</td>\n",
       "      <td>1</td>\n",
       "      <td>3</td>\n",
       "      <td>3</td>\n",
       "      <td>4</td>\n",
       "      <td>3</td>\n",
       "      <td>4</td>\n",
       "      <td>3</td>\n",
       "      <td>2</td>\n",
       "      <td>2</td>\n",
       "      <td>6</td>\n",
       "    </tr>\n",
       "  </tbody>\n",
       "</table>\n",
       "<p>148 rows × 19 columns</p>\n",
       "</div>"
      ],
      "text/plain": [
       "     class  lymphatics  block of affere  bl. of lymph. c  bl. of lymph. s  \\\n",
       "0        3           4                2                1                1   \n",
       "1        2           3                2                1                1   \n",
       "2        3           3                2                2                2   \n",
       "3        3           3                1                1                1   \n",
       "4        2           3                1                1                1   \n",
       "..     ...         ...              ...              ...              ...   \n",
       "143      3           3                2                1                1   \n",
       "144      2           2                1                1                1   \n",
       "145      3           2                2                1                1   \n",
       "146      2           2                1                1                1   \n",
       "147      2           2                2                2                1   \n",
       "\n",
       "     by pass  extravasates  regeneration of  early uptake in  lym.nodes dimin  \\\n",
       "0          1             1                1                2                1   \n",
       "1          2             2                1                2                1   \n",
       "2          2             2                2                2                1   \n",
       "3          1             2                1                2                1   \n",
       "4          1             1                1                1                1   \n",
       "..       ...           ...              ...              ...              ...   \n",
       "143        2             2                1                2                1   \n",
       "144        1             1                1                1                1   \n",
       "145        1             2                1                2                1   \n",
       "146        1             1                1                2                1   \n",
       "147        2             2                1                2                1   \n",
       "\n",
       "     lym.nodes enlar  changes in lym.  defect in node  changes in node  \\\n",
       "0                  2                2               2                4   \n",
       "1                  3                3               2                3   \n",
       "2                  4                3               3                4   \n",
       "3                  3                3               4                4   \n",
       "4                  2                2               4                3   \n",
       "..               ...              ...             ...              ...   \n",
       "143                2                2               4                3   \n",
       "144                1                1               1                1   \n",
       "145                3                3               3                3   \n",
       "146                2                2               4                2   \n",
       "147                3                3               4                3   \n",
       "\n",
       "     changes in stru  special forms  dislocation of  exclusion of no  \\\n",
       "0                  8              1               1                2   \n",
       "1                  4              2               2                2   \n",
       "2                  8              3               2                2   \n",
       "3                  4              3               1                2   \n",
       "4                  5              1               2                2   \n",
       "..               ...            ...             ...              ...   \n",
       "143                5              2               2                2   \n",
       "144                3              1               2                2   \n",
       "145                8              3               2                2   \n",
       "146                2              1               2                2   \n",
       "147                4              3               2                2   \n",
       "\n",
       "     no. of nodes in  \n",
       "0                  2  \n",
       "1                  2  \n",
       "2                  7  \n",
       "3                  6  \n",
       "4                  1  \n",
       "..               ...  \n",
       "143                4  \n",
       "144                1  \n",
       "145                4  \n",
       "146                1  \n",
       "147                6  \n",
       "\n",
       "[148 rows x 19 columns]"
      ]
     },
     "execution_count": 3,
     "metadata": {},
     "output_type": "execute_result"
    }
   ],
   "source": [
    "data = pd.read_csv('lymphography.csv',names=col_names)\n",
    "data"
   ]
  },
  {
   "cell_type": "code",
   "execution_count": 4,
   "id": "bc4937b2",
   "metadata": {},
   "outputs": [
    {
     "name": "stdout",
     "output_type": "stream",
     "text": [
      "<class 'pandas.core.frame.DataFrame'>\n",
      "RangeIndex: 148 entries, 0 to 147\n",
      "Data columns (total 19 columns):\n",
      " #   Column           Non-Null Count  Dtype\n",
      "---  ------           --------------  -----\n",
      " 0   class            148 non-null    int64\n",
      " 1   lymphatics       148 non-null    int64\n",
      " 2   block of affere  148 non-null    int64\n",
      " 3   bl. of lymph. c  148 non-null    int64\n",
      " 4   bl. of lymph. s  148 non-null    int64\n",
      " 5   by pass          148 non-null    int64\n",
      " 6   extravasates     148 non-null    int64\n",
      " 7   regeneration of  148 non-null    int64\n",
      " 8   early uptake in  148 non-null    int64\n",
      " 9   lym.nodes dimin  148 non-null    int64\n",
      " 10  lym.nodes enlar  148 non-null    int64\n",
      " 11  changes in lym.  148 non-null    int64\n",
      " 12  defect in node   148 non-null    int64\n",
      " 13  changes in node  148 non-null    int64\n",
      " 14  changes in stru  148 non-null    int64\n",
      " 15  special forms    148 non-null    int64\n",
      " 16  dislocation of   148 non-null    int64\n",
      " 17  exclusion of no  148 non-null    int64\n",
      " 18  no. of nodes in  148 non-null    int64\n",
      "dtypes: int64(19)\n",
      "memory usage: 22.1 KB\n"
     ]
    }
   ],
   "source": [
    "data.info()"
   ]
  },
  {
   "cell_type": "code",
   "execution_count": 5,
   "id": "a3da8102",
   "metadata": {},
   "outputs": [
    {
     "data": {
      "text/plain": [
       "class              0\n",
       "lymphatics         0\n",
       "block of affere    0\n",
       "bl. of lymph. c    0\n",
       "bl. of lymph. s    0\n",
       "by pass            0\n",
       "extravasates       0\n",
       "regeneration of    0\n",
       "early uptake in    0\n",
       "lym.nodes dimin    0\n",
       "lym.nodes enlar    0\n",
       "changes in lym.    0\n",
       "defect in node     0\n",
       "changes in node    0\n",
       "changes in stru    0\n",
       "special forms      0\n",
       "dislocation of     0\n",
       "exclusion of no    0\n",
       "no. of nodes in    0\n",
       "dtype: int64"
      ]
     },
     "execution_count": 5,
     "metadata": {},
     "output_type": "execute_result"
    }
   ],
   "source": [
    "data.isna().sum()"
   ]
  },
  {
   "cell_type": "code",
   "execution_count": 6,
   "id": "e68203f0",
   "metadata": {},
   "outputs": [
    {
     "data": {
      "text/html": [
       "<style type=\"text/css\">\n",
       "#T_60944_row0_col0, #T_60944_row0_col1, #T_60944_row0_col2, #T_60944_row0_col3, #T_60944_row0_col4, #T_60944_row0_col5, #T_60944_row0_col6, #T_60944_row0_col7, #T_60944_row0_col8, #T_60944_row0_col9, #T_60944_row0_col10, #T_60944_row0_col11, #T_60944_row0_col12, #T_60944_row0_col13, #T_60944_row0_col14, #T_60944_row0_col15, #T_60944_row0_col16, #T_60944_row0_col17, #T_60944_row0_col18 {\n",
       "  background-color: #ffc77f;\n",
       "  color: #000000;\n",
       "}\n",
       "#T_60944_row1_col0, #T_60944_row1_col1, #T_60944_row1_col11, #T_60944_row1_col12, #T_60944_row1_col13, #T_60944_row5_col1, #T_60944_row5_col12, #T_60944_row5_col13, #T_60944_row5_col15, #T_60944_row6_col1, #T_60944_row6_col10, #T_60944_row6_col13, #T_60944_row6_col15, #T_60944_row6_col18, #T_60944_row7_col4, #T_60944_row7_col7, #T_60944_row7_col15 {\n",
       "  background-color: #040201;\n",
       "  color: #f1f1f1;\n",
       "}\n",
       "#T_60944_row1_col2, #T_60944_row1_col3, #T_60944_row1_col4, #T_60944_row1_col5, #T_60944_row1_col6, #T_60944_row1_col7, #T_60944_row1_col9, #T_60944_row2_col18, #T_60944_row3_col3, #T_60944_row3_col4, #T_60944_row3_col7, #T_60944_row3_col9, #T_60944_row3_col17, #T_60944_row4_col3, #T_60944_row4_col4, #T_60944_row4_col7, #T_60944_row4_col9, #T_60944_row4_col12, #T_60944_row5_col3, #T_60944_row5_col4, #T_60944_row5_col7, #T_60944_row5_col9, #T_60944_row5_col18, #T_60944_row6_col3, #T_60944_row6_col4, #T_60944_row6_col7, #T_60944_row6_col9 {\n",
       "  background-color: #010100;\n",
       "  color: #f1f1f1;\n",
       "}\n",
       "#T_60944_row1_col8, #T_60944_row1_col10, #T_60944_row1_col15, #T_60944_row1_col16, #T_60944_row1_col17, #T_60944_row1_col18, #T_60944_row2_col14, #T_60944_row4_col0, #T_60944_row4_col1, #T_60944_row4_col10, #T_60944_row4_col11, #T_60944_row4_col13, #T_60944_row4_col15, #T_60944_row4_col17, #T_60944_row5_col0, #T_60944_row5_col2, #T_60944_row5_col6, #T_60944_row5_col8, #T_60944_row5_col10, #T_60944_row5_col11, #T_60944_row5_col16, #T_60944_row5_col17, #T_60944_row6_col2, #T_60944_row6_col6, #T_60944_row6_col8, #T_60944_row6_col16, #T_60944_row6_col17, #T_60944_row7_col2, #T_60944_row7_col3, #T_60944_row7_col5, #T_60944_row7_col6, #T_60944_row7_col8, #T_60944_row7_col16, #T_60944_row7_col17 {\n",
       "  background-color: #020201;\n",
       "  color: #f1f1f1;\n",
       "}\n",
       "#T_60944_row1_col14 {\n",
       "  background-color: #090503;\n",
       "  color: #f1f1f1;\n",
       "}\n",
       "#T_60944_row2_col0, #T_60944_row2_col1, #T_60944_row2_col2, #T_60944_row2_col3, #T_60944_row2_col4, #T_60944_row2_col5, #T_60944_row2_col6, #T_60944_row2_col7, #T_60944_row2_col8, #T_60944_row2_col9, #T_60944_row2_col10, #T_60944_row2_col11, #T_60944_row2_col12, #T_60944_row2_col13, #T_60944_row2_col15, #T_60944_row2_col16, #T_60944_row2_col17, #T_60944_row3_col0, #T_60944_row3_col1, #T_60944_row3_col2, #T_60944_row3_col5, #T_60944_row3_col6, #T_60944_row3_col8, #T_60944_row3_col10, #T_60944_row3_col11, #T_60944_row3_col12, #T_60944_row3_col13, #T_60944_row3_col14, #T_60944_row3_col15, #T_60944_row3_col16, #T_60944_row3_col18, #T_60944_row4_col2, #T_60944_row4_col5, #T_60944_row4_col6, #T_60944_row4_col8, #T_60944_row4_col16, #T_60944_row4_col18, #T_60944_row5_col5, #T_60944_row6_col5 {\n",
       "  background-color: #000000;\n",
       "  color: #f1f1f1;\n",
       "}\n",
       "#T_60944_row4_col14, #T_60944_row6_col12, #T_60944_row7_col0, #T_60944_row7_col1, #T_60944_row7_col10, #T_60944_row7_col12, #T_60944_row7_col13 {\n",
       "  background-color: #060402;\n",
       "  color: #f1f1f1;\n",
       "}\n",
       "#T_60944_row5_col14 {\n",
       "  background-color: #070503;\n",
       "  color: #f1f1f1;\n",
       "}\n",
       "#T_60944_row6_col0, #T_60944_row6_col11, #T_60944_row7_col9, #T_60944_row7_col11 {\n",
       "  background-color: #050302;\n",
       "  color: #f1f1f1;\n",
       "}\n",
       "#T_60944_row6_col14, #T_60944_row7_col14, #T_60944_row7_col18 {\n",
       "  background-color: #0f0906;\n",
       "  color: #f1f1f1;\n",
       "}\n",
       "</style>\n",
       "<table id=\"T_60944\">\n",
       "  <thead>\n",
       "    <tr>\n",
       "      <th class=\"blank level0\" >&nbsp;</th>\n",
       "      <th id=\"T_60944_level0_col0\" class=\"col_heading level0 col0\" >class</th>\n",
       "      <th id=\"T_60944_level0_col1\" class=\"col_heading level0 col1\" >lymphatics</th>\n",
       "      <th id=\"T_60944_level0_col2\" class=\"col_heading level0 col2\" >block of affere</th>\n",
       "      <th id=\"T_60944_level0_col3\" class=\"col_heading level0 col3\" >bl. of lymph. c</th>\n",
       "      <th id=\"T_60944_level0_col4\" class=\"col_heading level0 col4\" >bl. of lymph. s</th>\n",
       "      <th id=\"T_60944_level0_col5\" class=\"col_heading level0 col5\" >by pass</th>\n",
       "      <th id=\"T_60944_level0_col6\" class=\"col_heading level0 col6\" >extravasates</th>\n",
       "      <th id=\"T_60944_level0_col7\" class=\"col_heading level0 col7\" >regeneration of</th>\n",
       "      <th id=\"T_60944_level0_col8\" class=\"col_heading level0 col8\" >early uptake in</th>\n",
       "      <th id=\"T_60944_level0_col9\" class=\"col_heading level0 col9\" >lym.nodes dimin</th>\n",
       "      <th id=\"T_60944_level0_col10\" class=\"col_heading level0 col10\" >lym.nodes enlar</th>\n",
       "      <th id=\"T_60944_level0_col11\" class=\"col_heading level0 col11\" >changes in lym.</th>\n",
       "      <th id=\"T_60944_level0_col12\" class=\"col_heading level0 col12\" >defect in node</th>\n",
       "      <th id=\"T_60944_level0_col13\" class=\"col_heading level0 col13\" >changes in node</th>\n",
       "      <th id=\"T_60944_level0_col14\" class=\"col_heading level0 col14\" >changes in stru</th>\n",
       "      <th id=\"T_60944_level0_col15\" class=\"col_heading level0 col15\" >special forms</th>\n",
       "      <th id=\"T_60944_level0_col16\" class=\"col_heading level0 col16\" >dislocation of</th>\n",
       "      <th id=\"T_60944_level0_col17\" class=\"col_heading level0 col17\" >exclusion of no</th>\n",
       "      <th id=\"T_60944_level0_col18\" class=\"col_heading level0 col18\" >no. of nodes in</th>\n",
       "    </tr>\n",
       "  </thead>\n",
       "  <tbody>\n",
       "    <tr>\n",
       "      <th id=\"T_60944_level0_row0\" class=\"row_heading level0 row0\" >count</th>\n",
       "      <td id=\"T_60944_row0_col0\" class=\"data row0 col0\" >148.000000</td>\n",
       "      <td id=\"T_60944_row0_col1\" class=\"data row0 col1\" >148.000000</td>\n",
       "      <td id=\"T_60944_row0_col2\" class=\"data row0 col2\" >148.000000</td>\n",
       "      <td id=\"T_60944_row0_col3\" class=\"data row0 col3\" >148.000000</td>\n",
       "      <td id=\"T_60944_row0_col4\" class=\"data row0 col4\" >148.000000</td>\n",
       "      <td id=\"T_60944_row0_col5\" class=\"data row0 col5\" >148.000000</td>\n",
       "      <td id=\"T_60944_row0_col6\" class=\"data row0 col6\" >148.000000</td>\n",
       "      <td id=\"T_60944_row0_col7\" class=\"data row0 col7\" >148.000000</td>\n",
       "      <td id=\"T_60944_row0_col8\" class=\"data row0 col8\" >148.000000</td>\n",
       "      <td id=\"T_60944_row0_col9\" class=\"data row0 col9\" >148.000000</td>\n",
       "      <td id=\"T_60944_row0_col10\" class=\"data row0 col10\" >148.000000</td>\n",
       "      <td id=\"T_60944_row0_col11\" class=\"data row0 col11\" >148.000000</td>\n",
       "      <td id=\"T_60944_row0_col12\" class=\"data row0 col12\" >148.000000</td>\n",
       "      <td id=\"T_60944_row0_col13\" class=\"data row0 col13\" >148.000000</td>\n",
       "      <td id=\"T_60944_row0_col14\" class=\"data row0 col14\" >148.000000</td>\n",
       "      <td id=\"T_60944_row0_col15\" class=\"data row0 col15\" >148.000000</td>\n",
       "      <td id=\"T_60944_row0_col16\" class=\"data row0 col16\" >148.000000</td>\n",
       "      <td id=\"T_60944_row0_col17\" class=\"data row0 col17\" >148.000000</td>\n",
       "      <td id=\"T_60944_row0_col18\" class=\"data row0 col18\" >148.000000</td>\n",
       "    </tr>\n",
       "    <tr>\n",
       "      <th id=\"T_60944_level0_row1\" class=\"row_heading level0 row1\" >mean</th>\n",
       "      <td id=\"T_60944_row1_col0\" class=\"data row1 col0\" >2.452703</td>\n",
       "      <td id=\"T_60944_row1_col1\" class=\"data row1 col1\" >2.743243</td>\n",
       "      <td id=\"T_60944_row1_col2\" class=\"data row1 col2\" >1.554054</td>\n",
       "      <td id=\"T_60944_row1_col3\" class=\"data row1 col3\" >1.175676</td>\n",
       "      <td id=\"T_60944_row1_col4\" class=\"data row1 col4\" >1.047297</td>\n",
       "      <td id=\"T_60944_row1_col5\" class=\"data row1 col5\" >1.243243</td>\n",
       "      <td id=\"T_60944_row1_col6\" class=\"data row1 col6\" >1.506757</td>\n",
       "      <td id=\"T_60944_row1_col7\" class=\"data row1 col7\" >1.067568</td>\n",
       "      <td id=\"T_60944_row1_col8\" class=\"data row1 col8\" >1.702703</td>\n",
       "      <td id=\"T_60944_row1_col9\" class=\"data row1 col9\" >1.060811</td>\n",
       "      <td id=\"T_60944_row1_col10\" class=\"data row1 col10\" >2.472973</td>\n",
       "      <td id=\"T_60944_row1_col11\" class=\"data row1 col11\" >2.398649</td>\n",
       "      <td id=\"T_60944_row1_col12\" class=\"data row1 col12\" >2.966216</td>\n",
       "      <td id=\"T_60944_row1_col13\" class=\"data row1 col13\" >2.804054</td>\n",
       "      <td id=\"T_60944_row1_col14\" class=\"data row1 col14\" >5.216216</td>\n",
       "      <td id=\"T_60944_row1_col15\" class=\"data row1 col15\" >2.331081</td>\n",
       "      <td id=\"T_60944_row1_col16\" class=\"data row1 col16\" >1.662162</td>\n",
       "      <td id=\"T_60944_row1_col17\" class=\"data row1 col17\" >1.790541</td>\n",
       "      <td id=\"T_60944_row1_col18\" class=\"data row1 col18\" >2.601351</td>\n",
       "    </tr>\n",
       "    <tr>\n",
       "      <th id=\"T_60944_level0_row2\" class=\"row_heading level0 row2\" >std</th>\n",
       "      <td id=\"T_60944_row2_col0\" class=\"data row2 col0\" >0.575396</td>\n",
       "      <td id=\"T_60944_row2_col1\" class=\"data row2 col1\" >0.817509</td>\n",
       "      <td id=\"T_60944_row2_col2\" class=\"data row2 col2\" >0.498757</td>\n",
       "      <td id=\"T_60944_row2_col3\" class=\"data row2 col3\" >0.381836</td>\n",
       "      <td id=\"T_60944_row2_col4\" class=\"data row2 col4\" >0.212995</td>\n",
       "      <td id=\"T_60944_row2_col5\" class=\"data row2 col5\" >0.430498</td>\n",
       "      <td id=\"T_60944_row2_col6\" class=\"data row2 col6\" >0.501652</td>\n",
       "      <td id=\"T_60944_row2_col7\" class=\"data row2 col7\" >0.251855</td>\n",
       "      <td id=\"T_60944_row2_col8\" class=\"data row2 col8\" >0.458621</td>\n",
       "      <td id=\"T_60944_row2_col9\" class=\"data row2 col9\" >0.313557</td>\n",
       "      <td id=\"T_60944_row2_col10\" class=\"data row2 col10\" >0.836627</td>\n",
       "      <td id=\"T_60944_row2_col11\" class=\"data row2 col11\" >0.568323</td>\n",
       "      <td id=\"T_60944_row2_col12\" class=\"data row2 col12\" >0.868305</td>\n",
       "      <td id=\"T_60944_row2_col13\" class=\"data row2 col13\" >0.761834</td>\n",
       "      <td id=\"T_60944_row2_col14\" class=\"data row2 col14\" >2.171368</td>\n",
       "      <td id=\"T_60944_row2_col15\" class=\"data row2 col15\" >0.777126</td>\n",
       "      <td id=\"T_60944_row2_col16\" class=\"data row2 col16\" >0.474579</td>\n",
       "      <td id=\"T_60944_row2_col17\" class=\"data row2 col17\" >0.408305</td>\n",
       "      <td id=\"T_60944_row2_col18\" class=\"data row2 col18\" >1.905023</td>\n",
       "    </tr>\n",
       "    <tr>\n",
       "      <th id=\"T_60944_level0_row3\" class=\"row_heading level0 row3\" >min</th>\n",
       "      <td id=\"T_60944_row3_col0\" class=\"data row3 col0\" >1.000000</td>\n",
       "      <td id=\"T_60944_row3_col1\" class=\"data row3 col1\" >1.000000</td>\n",
       "      <td id=\"T_60944_row3_col2\" class=\"data row3 col2\" >1.000000</td>\n",
       "      <td id=\"T_60944_row3_col3\" class=\"data row3 col3\" >1.000000</td>\n",
       "      <td id=\"T_60944_row3_col4\" class=\"data row3 col4\" >1.000000</td>\n",
       "      <td id=\"T_60944_row3_col5\" class=\"data row3 col5\" >1.000000</td>\n",
       "      <td id=\"T_60944_row3_col6\" class=\"data row3 col6\" >1.000000</td>\n",
       "      <td id=\"T_60944_row3_col7\" class=\"data row3 col7\" >1.000000</td>\n",
       "      <td id=\"T_60944_row3_col8\" class=\"data row3 col8\" >1.000000</td>\n",
       "      <td id=\"T_60944_row3_col9\" class=\"data row3 col9\" >1.000000</td>\n",
       "      <td id=\"T_60944_row3_col10\" class=\"data row3 col10\" >1.000000</td>\n",
       "      <td id=\"T_60944_row3_col11\" class=\"data row3 col11\" >1.000000</td>\n",
       "      <td id=\"T_60944_row3_col12\" class=\"data row3 col12\" >1.000000</td>\n",
       "      <td id=\"T_60944_row3_col13\" class=\"data row3 col13\" >1.000000</td>\n",
       "      <td id=\"T_60944_row3_col14\" class=\"data row3 col14\" >1.000000</td>\n",
       "      <td id=\"T_60944_row3_col15\" class=\"data row3 col15\" >1.000000</td>\n",
       "      <td id=\"T_60944_row3_col16\" class=\"data row3 col16\" >1.000000</td>\n",
       "      <td id=\"T_60944_row3_col17\" class=\"data row3 col17\" >1.000000</td>\n",
       "      <td id=\"T_60944_row3_col18\" class=\"data row3 col18\" >1.000000</td>\n",
       "    </tr>\n",
       "    <tr>\n",
       "      <th id=\"T_60944_level0_row4\" class=\"row_heading level0 row4\" >25%</th>\n",
       "      <td id=\"T_60944_row4_col0\" class=\"data row4 col0\" >2.000000</td>\n",
       "      <td id=\"T_60944_row4_col1\" class=\"data row4 col1\" >2.000000</td>\n",
       "      <td id=\"T_60944_row4_col2\" class=\"data row4 col2\" >1.000000</td>\n",
       "      <td id=\"T_60944_row4_col3\" class=\"data row4 col3\" >1.000000</td>\n",
       "      <td id=\"T_60944_row4_col4\" class=\"data row4 col4\" >1.000000</td>\n",
       "      <td id=\"T_60944_row4_col5\" class=\"data row4 col5\" >1.000000</td>\n",
       "      <td id=\"T_60944_row4_col6\" class=\"data row4 col6\" >1.000000</td>\n",
       "      <td id=\"T_60944_row4_col7\" class=\"data row4 col7\" >1.000000</td>\n",
       "      <td id=\"T_60944_row4_col8\" class=\"data row4 col8\" >1.000000</td>\n",
       "      <td id=\"T_60944_row4_col9\" class=\"data row4 col9\" >1.000000</td>\n",
       "      <td id=\"T_60944_row4_col10\" class=\"data row4 col10\" >2.000000</td>\n",
       "      <td id=\"T_60944_row4_col11\" class=\"data row4 col11\" >2.000000</td>\n",
       "      <td id=\"T_60944_row4_col12\" class=\"data row4 col12\" >2.000000</td>\n",
       "      <td id=\"T_60944_row4_col13\" class=\"data row4 col13\" >2.000000</td>\n",
       "      <td id=\"T_60944_row4_col14\" class=\"data row4 col14\" >4.000000</td>\n",
       "      <td id=\"T_60944_row4_col15\" class=\"data row4 col15\" >2.000000</td>\n",
       "      <td id=\"T_60944_row4_col16\" class=\"data row4 col16\" >1.000000</td>\n",
       "      <td id=\"T_60944_row4_col17\" class=\"data row4 col17\" >2.000000</td>\n",
       "      <td id=\"T_60944_row4_col18\" class=\"data row4 col18\" >1.000000</td>\n",
       "    </tr>\n",
       "    <tr>\n",
       "      <th id=\"T_60944_level0_row5\" class=\"row_heading level0 row5\" >50%</th>\n",
       "      <td id=\"T_60944_row5_col0\" class=\"data row5 col0\" >2.000000</td>\n",
       "      <td id=\"T_60944_row5_col1\" class=\"data row5 col1\" >3.000000</td>\n",
       "      <td id=\"T_60944_row5_col2\" class=\"data row5 col2\" >2.000000</td>\n",
       "      <td id=\"T_60944_row5_col3\" class=\"data row5 col3\" >1.000000</td>\n",
       "      <td id=\"T_60944_row5_col4\" class=\"data row5 col4\" >1.000000</td>\n",
       "      <td id=\"T_60944_row5_col5\" class=\"data row5 col5\" >1.000000</td>\n",
       "      <td id=\"T_60944_row5_col6\" class=\"data row5 col6\" >2.000000</td>\n",
       "      <td id=\"T_60944_row5_col7\" class=\"data row5 col7\" >1.000000</td>\n",
       "      <td id=\"T_60944_row5_col8\" class=\"data row5 col8\" >2.000000</td>\n",
       "      <td id=\"T_60944_row5_col9\" class=\"data row5 col9\" >1.000000</td>\n",
       "      <td id=\"T_60944_row5_col10\" class=\"data row5 col10\" >2.000000</td>\n",
       "      <td id=\"T_60944_row5_col11\" class=\"data row5 col11\" >2.000000</td>\n",
       "      <td id=\"T_60944_row5_col12\" class=\"data row5 col12\" >3.000000</td>\n",
       "      <td id=\"T_60944_row5_col13\" class=\"data row5 col13\" >3.000000</td>\n",
       "      <td id=\"T_60944_row5_col14\" class=\"data row5 col14\" >5.000000</td>\n",
       "      <td id=\"T_60944_row5_col15\" class=\"data row5 col15\" >3.000000</td>\n",
       "      <td id=\"T_60944_row5_col16\" class=\"data row5 col16\" >2.000000</td>\n",
       "      <td id=\"T_60944_row5_col17\" class=\"data row5 col17\" >2.000000</td>\n",
       "      <td id=\"T_60944_row5_col18\" class=\"data row5 col18\" >2.000000</td>\n",
       "    </tr>\n",
       "    <tr>\n",
       "      <th id=\"T_60944_level0_row6\" class=\"row_heading level0 row6\" >75%</th>\n",
       "      <td id=\"T_60944_row6_col0\" class=\"data row6 col0\" >3.000000</td>\n",
       "      <td id=\"T_60944_row6_col1\" class=\"data row6 col1\" >3.000000</td>\n",
       "      <td id=\"T_60944_row6_col2\" class=\"data row6 col2\" >2.000000</td>\n",
       "      <td id=\"T_60944_row6_col3\" class=\"data row6 col3\" >1.000000</td>\n",
       "      <td id=\"T_60944_row6_col4\" class=\"data row6 col4\" >1.000000</td>\n",
       "      <td id=\"T_60944_row6_col5\" class=\"data row6 col5\" >1.000000</td>\n",
       "      <td id=\"T_60944_row6_col6\" class=\"data row6 col6\" >2.000000</td>\n",
       "      <td id=\"T_60944_row6_col7\" class=\"data row6 col7\" >1.000000</td>\n",
       "      <td id=\"T_60944_row6_col8\" class=\"data row6 col8\" >2.000000</td>\n",
       "      <td id=\"T_60944_row6_col9\" class=\"data row6 col9\" >1.000000</td>\n",
       "      <td id=\"T_60944_row6_col10\" class=\"data row6 col10\" >3.000000</td>\n",
       "      <td id=\"T_60944_row6_col11\" class=\"data row6 col11\" >3.000000</td>\n",
       "      <td id=\"T_60944_row6_col12\" class=\"data row6 col12\" >4.000000</td>\n",
       "      <td id=\"T_60944_row6_col13\" class=\"data row6 col13\" >3.000000</td>\n",
       "      <td id=\"T_60944_row6_col14\" class=\"data row6 col14\" >8.000000</td>\n",
       "      <td id=\"T_60944_row6_col15\" class=\"data row6 col15\" >3.000000</td>\n",
       "      <td id=\"T_60944_row6_col16\" class=\"data row6 col16\" >2.000000</td>\n",
       "      <td id=\"T_60944_row6_col17\" class=\"data row6 col17\" >2.000000</td>\n",
       "      <td id=\"T_60944_row6_col18\" class=\"data row6 col18\" >3.000000</td>\n",
       "    </tr>\n",
       "    <tr>\n",
       "      <th id=\"T_60944_level0_row7\" class=\"row_heading level0 row7\" >max</th>\n",
       "      <td id=\"T_60944_row7_col0\" class=\"data row7 col0\" >4.000000</td>\n",
       "      <td id=\"T_60944_row7_col1\" class=\"data row7 col1\" >4.000000</td>\n",
       "      <td id=\"T_60944_row7_col2\" class=\"data row7 col2\" >2.000000</td>\n",
       "      <td id=\"T_60944_row7_col3\" class=\"data row7 col3\" >2.000000</td>\n",
       "      <td id=\"T_60944_row7_col4\" class=\"data row7 col4\" >2.000000</td>\n",
       "      <td id=\"T_60944_row7_col5\" class=\"data row7 col5\" >2.000000</td>\n",
       "      <td id=\"T_60944_row7_col6\" class=\"data row7 col6\" >2.000000</td>\n",
       "      <td id=\"T_60944_row7_col7\" class=\"data row7 col7\" >2.000000</td>\n",
       "      <td id=\"T_60944_row7_col8\" class=\"data row7 col8\" >2.000000</td>\n",
       "      <td id=\"T_60944_row7_col9\" class=\"data row7 col9\" >3.000000</td>\n",
       "      <td id=\"T_60944_row7_col10\" class=\"data row7 col10\" >4.000000</td>\n",
       "      <td id=\"T_60944_row7_col11\" class=\"data row7 col11\" >3.000000</td>\n",
       "      <td id=\"T_60944_row7_col12\" class=\"data row7 col12\" >4.000000</td>\n",
       "      <td id=\"T_60944_row7_col13\" class=\"data row7 col13\" >4.000000</td>\n",
       "      <td id=\"T_60944_row7_col14\" class=\"data row7 col14\" >8.000000</td>\n",
       "      <td id=\"T_60944_row7_col15\" class=\"data row7 col15\" >3.000000</td>\n",
       "      <td id=\"T_60944_row7_col16\" class=\"data row7 col16\" >2.000000</td>\n",
       "      <td id=\"T_60944_row7_col17\" class=\"data row7 col17\" >2.000000</td>\n",
       "      <td id=\"T_60944_row7_col18\" class=\"data row7 col18\" >8.000000</td>\n",
       "    </tr>\n",
       "  </tbody>\n",
       "</table>\n"
      ],
      "text/plain": [
       "<pandas.io.formats.style.Styler at 0x1d8423e1550>"
      ]
     },
     "execution_count": 6,
     "metadata": {},
     "output_type": "execute_result"
    }
   ],
   "source": [
    "data.describe().style.background_gradient(cmap = 'copper')"
   ]
  },
  {
   "cell_type": "code",
   "execution_count": 7,
   "id": "2fe77d61",
   "metadata": {},
   "outputs": [
    {
     "data": {
      "text/plain": [
       "<AxesSubplot:>"
      ]
     },
     "execution_count": 7,
     "metadata": {},
     "output_type": "execute_result"
    },
    {
     "data": {
      "image/png": "[encoded data removed]",
      "text/plain": [
       "<Figure size 504x360 with 2 Axes>"
      ]
     },
     "metadata": {
      "needs_background": "light"
     },
     "output_type": "display_data"
    }
   ],
   "source": [
    "plt.rcParams['figure.figsize']=7,5\n",
    "sns.heatmap(data.corr())"
   ]
  },
  {
   "cell_type": "code",
   "execution_count": 8,
   "id": "8e527e0d",
   "metadata": {},
   "outputs": [],
   "source": [
    "y=data['class']\n",
    "x=data.drop('class',axis=1)"
   ]
  },
  {
   "cell_type": "code",
   "execution_count": 9,
   "id": "8fb25dbe",
   "metadata": {},
   "outputs": [
    {
     "data": {
      "image/png": "[encoded data removed]",
      "text/plain": [
       "<Figure size 504x360 with 1 Axes>"
      ]
     },
     "metadata": {
      "needs_background": "light"
     },
     "output_type": "display_data"
    }
   ],
   "source": [
    "plt.rcParams['figure.figsize']=7,5\n",
    "sns.countplot(data['class'])\n",
    "plt.show()"
   ]
  },
  {
   "cell_type": "code",
   "execution_count": 10,
   "id": "0ec28ba3",
   "metadata": {},
   "outputs": [],
   "source": [
    "# Imbalanced data to balanced data for class\n",
    "\n",
    "from imblearn.over_sampling import RandomOverSampler\n",
    "oversample = RandomOverSampler(sampling_strategy='not majority')\n",
    "x, y = oversample.fit_resample(x, y)"
   ]
  },
  {
   "cell_type": "code",
   "execution_count": 11,
   "id": "838e5bbf",
   "metadata": {},
   "outputs": [
    {
     "data": {
      "image/png": "[encoded data removed]",
      "text/plain": [
       "<Figure size 504x360 with 1 Axes>"
      ]
     },
     "metadata": {
      "needs_background": "light"
     },
     "output_type": "display_data"
    }
   ],
   "source": [
    "# balanced data\n",
    "plt.rcParams['figure.figsize']=7,5\n",
    "sns.countplot(y)\n",
    "plt.show()"
   ]
  },
  {
   "cell_type": "markdown",
   "id": "cf39ed31",
   "metadata": {},
   "source": [
    "## Neural Network"
   ]
  },
  {
   "cell_type": "code",
   "execution_count": 12,
   "id": "2ae03f7c",
   "metadata": {},
   "outputs": [],
   "source": [
    "from sklearn.model_selection import train_test_split\n",
    "\n",
    "x_train,x_test,y_train,y_test=train_test_split(x,y,test_size=0.2,random_state=0)"
   ]
  },
  {
   "cell_type": "code",
   "execution_count": 13,
   "id": "c5900b3b",
   "metadata": {},
   "outputs": [
    {
     "name": "stdout",
     "output_type": "stream",
     "text": [
      "size of x_train:(259, 18) \n",
      " size of x_test:(65, 18) \n",
      " size of y_train:(259,)  \n",
      " size of y_test:(65,)\n"
     ]
    }
   ],
   "source": [
    "print(\"size of x_train:{} \\n size of x_test:{} \\n size of y_train:{}  \\n size of y_test:{}\".format\n",
    "            (x_train.shape,x_test.shape,y_train.shape,y_test.shape))"
   ]
  },
  {
   "cell_type": "code",
   "execution_count": 14,
   "id": "cc000b61",
   "metadata": {},
   "outputs": [],
   "source": [
    "from tensorflow import keras\n",
    "from tensorflow.keras.models import Sequential\n",
    "from tensorflow.keras.layers import Dense\n",
    "from sklearn.metrics import accuracy_score,classification_report,confusion_matrix"
   ]
  },
  {
   "cell_type": "code",
   "execution_count": 15,
   "id": "8ca811cd",
   "metadata": {},
   "outputs": [],
   "source": [
    "model = keras.Sequential([\n",
    "    keras.layers.Dense(26, input_dim=x_train.shape[1], activation='relu'),\n",
    "    keras.layers.Dense(15, activation='relu'),\n",
    "    keras.layers.Dense(1, activation='sigmoid')])"
   ]
  },
  {
   "cell_type": "code",
   "execution_count": 16,
   "id": "c8d9b87c",
   "metadata": {},
   "outputs": [],
   "source": [
    "model.compile(optimizer='adam', loss='CategoricalCrossentropy', metrics=['accuracy'])"
   ]
  },
  {
   "cell_type": "code",
   "execution_count": 17,
   "id": "6e11a4c7",
   "metadata": {},
   "outputs": [
    {
     "name": "stdout",
     "output_type": "stream",
     "text": [
      "Epoch 1/100\n",
      "9/9 [==============================] - 1s 1ms/step - loss: 0.0000e+00 - accuracy: 0.2394\n",
      "Epoch 2/100\n",
      "9/9 [==============================] - 0s 2ms/step - loss: 0.0000e+00 - accuracy: 0.2394\n",
      "Epoch 3/100\n",
      "9/9 [==============================] - 0s 1ms/step - loss: 0.0000e+00 - accuracy: 0.2394\n",
      "Epoch 4/100\n",
      "9/9 [==============================] - 0s 1ms/step - loss: 0.0000e+00 - accuracy: 0.2394\n",
      "Epoch 5/100\n",
      "9/9 [==============================] - 0s 1ms/step - loss: 0.0000e+00 - accuracy: 0.2394\n",
      "Epoch 6/100\n",
      "9/9 [==============================] - 0s 1ms/step - loss: 0.0000e+00 - accuracy: 0.2394\n",
      "Epoch 7/100\n",
      "9/9 [==============================] - 0s 1ms/step - loss: 0.0000e+00 - accuracy: 0.2394\n",
      "Epoch 8/100\n",
      "9/9 [==============================] - 0s 1ms/step - loss: 0.0000e+00 - accuracy: 0.2394\n",
      "Epoch 9/100\n",
      "9/9 [==============================] - 0s 1ms/step - loss: 0.0000e+00 - accuracy: 0.2394\n",
      "Epoch 10/100\n",
      "9/9 [==============================] - 0s 1ms/step - loss: 0.0000e+00 - accuracy: 0.2394\n",
      "Epoch 11/100\n",
      "9/9 [==============================] - 0s 1ms/step - loss: 0.0000e+00 - accuracy: 0.2394\n",
      "Epoch 12/100\n",
      "9/9 [==============================] - 0s 1ms/step - loss: 0.0000e+00 - accuracy: 0.2394\n",
      "Epoch 13/100\n",
      "9/9 [==============================] - 0s 1ms/step - loss: 0.0000e+00 - accuracy: 0.2394\n",
      "Epoch 14/100\n",
      "9/9 [==============================] - 0s 1ms/step - loss: 0.0000e+00 - accuracy: 0.2394\n",
      "Epoch 15/100\n",
      "9/9 [==============================] - 0s 2ms/step - loss: 0.0000e+00 - accuracy: 0.2394\n",
      "Epoch 16/100\n",
      "9/9 [==============================] - 0s 2ms/step - loss: 0.0000e+00 - accuracy: 0.2394\n",
      "Epoch 17/100\n",
      "9/9 [==============================] - 0s 1ms/step - loss: 0.0000e+00 - accuracy: 0.2394\n",
      "Epoch 18/100\n",
      "9/9 [==============================] - 0s 1ms/step - loss: 0.0000e+00 - accuracy: 0.2394\n",
      "Epoch 19/100\n",
      "9/9 [==============================] - 0s 1ms/step - loss: 0.0000e+00 - accuracy: 0.2394\n",
      "Epoch 20/100\n",
      "9/9 [==============================] - 0s 1ms/step - loss: 0.0000e+00 - accuracy: 0.2394\n",
      "Epoch 21/100\n",
      "9/9 [==============================] - 0s 1ms/step - loss: 0.0000e+00 - accuracy: 0.2394\n",
      "Epoch 22/100\n",
      "9/9 [==============================] - 0s 1ms/step - loss: 0.0000e+00 - accuracy: 0.2394\n",
      "Epoch 23/100\n",
      "9/9 [==============================] - 0s 1ms/step - loss: 0.0000e+00 - accuracy: 0.2394\n",
      "Epoch 24/100\n",
      "9/9 [==============================] - 0s 1ms/step - loss: 0.0000e+00 - accuracy: 0.2394\n",
      "Epoch 25/100\n",
      "9/9 [==============================] - 0s 1ms/step - loss: 0.0000e+00 - accuracy: 0.2394\n",
      "Epoch 26/100\n",
      "9/9 [==============================] - 0s 1ms/step - loss: 0.0000e+00 - accuracy: 0.2394\n",
      "Epoch 27/100\n",
      "9/9 [==============================] - 0s 1ms/step - loss: 0.0000e+00 - accuracy: 0.2394\n",
      "Epoch 28/100\n",
      "9/9 [==============================] - 0s 1ms/step - loss: 0.0000e+00 - accuracy: 0.2394\n",
      "Epoch 29/100\n",
      "9/9 [==============================] - 0s 1ms/step - loss: 0.0000e+00 - accuracy: 0.2394\n",
      "Epoch 30/100\n",
      "9/9 [==============================] - 0s 1ms/step - loss: 0.0000e+00 - accuracy: 0.2394\n",
      "Epoch 31/100\n",
      "9/9 [==============================] - 0s 1ms/step - loss: 0.0000e+00 - accuracy: 0.2394\n",
      "Epoch 32/100\n",
      "9/9 [==============================] - 0s 1ms/step - loss: 0.0000e+00 - accuracy: 0.2394\n",
      "Epoch 33/100\n",
      "9/9 [==============================] - 0s 1ms/step - loss: 0.0000e+00 - accuracy: 0.2394\n",
      "Epoch 34/100\n",
      "9/9 [==============================] - 0s 1ms/step - loss: 0.0000e+00 - accuracy: 0.2394\n",
      "Epoch 35/100\n",
      "9/9 [==============================] - 0s 1ms/step - loss: 0.0000e+00 - accuracy: 0.2394\n",
      "Epoch 36/100\n",
      "9/9 [==============================] - 0s 1ms/step - loss: 0.0000e+00 - accuracy: 0.2394\n",
      "Epoch 37/100\n",
      "9/9 [==============================] - 0s 1ms/step - loss: 0.0000e+00 - accuracy: 0.2394\n",
      "Epoch 38/100\n",
      "9/9 [==============================] - 0s 1ms/step - loss: 0.0000e+00 - accuracy: 0.2394\n",
      "Epoch 39/100\n",
      "9/9 [==============================] - 0s 1ms/step - loss: 0.0000e+00 - accuracy: 0.2394\n",
      "Epoch 40/100\n",
      "9/9 [==============================] - 0s 2ms/step - loss: 0.0000e+00 - accuracy: 0.2394\n",
      "Epoch 41/100\n",
      "9/9 [==============================] - 0s 1ms/step - loss: 0.0000e+00 - accuracy: 0.2394\n",
      "Epoch 42/100\n",
      "9/9 [==============================] - 0s 2ms/step - loss: 0.0000e+00 - accuracy: 0.2394\n",
      "Epoch 43/100\n",
      "9/9 [==============================] - 0s 1ms/step - loss: 0.0000e+00 - accuracy: 0.2394\n",
      "Epoch 44/100\n",
      "9/9 [==============================] - 0s 1ms/step - loss: 0.0000e+00 - accuracy: 0.2394\n",
      "Epoch 45/100\n",
      "9/9 [==============================] - 0s 1ms/step - loss: 0.0000e+00 - accuracy: 0.2394\n",
      "Epoch 46/100\n",
      "9/9 [==============================] - 0s 1ms/step - loss: 0.0000e+00 - accuracy: 0.2394\n",
      "Epoch 47/100\n",
      "9/9 [==============================] - 0s 1ms/step - loss: 0.0000e+00 - accuracy: 0.2394\n",
      "Epoch 48/100\n",
      "9/9 [==============================] - 0s 1ms/step - loss: 0.0000e+00 - accuracy: 0.2394\n",
      "Epoch 49/100\n",
      "9/9 [==============================] - 0s 1ms/step - loss: 0.0000e+00 - accuracy: 0.2394\n",
      "Epoch 50/100\n",
      "9/9 [==============================] - 0s 1ms/step - loss: 0.0000e+00 - accuracy: 0.2394\n",
      "Epoch 51/100\n",
      "9/9 [==============================] - 0s 1ms/step - loss: 0.0000e+00 - accuracy: 0.2394\n",
      "Epoch 52/100\n",
      "9/9 [==============================] - 0s 1ms/step - loss: 0.0000e+00 - accuracy: 0.2394\n",
      "Epoch 53/100\n",
      "9/9 [==============================] - 0s 1ms/step - loss: 0.0000e+00 - accuracy: 0.2394\n",
      "Epoch 54/100\n",
      "9/9 [==============================] - 0s 1ms/step - loss: 0.0000e+00 - accuracy: 0.2394\n",
      "Epoch 55/100\n",
      "9/9 [==============================] - 0s 1ms/step - loss: 0.0000e+00 - accuracy: 0.2394\n",
      "Epoch 56/100\n",
      "9/9 [==============================] - 0s 1ms/step - loss: 0.0000e+00 - accuracy: 0.2394\n",
      "Epoch 57/100\n",
      "9/9 [==============================] - 0s 1ms/step - loss: 0.0000e+00 - accuracy: 0.2394\n",
      "Epoch 58/100\n",
      "9/9 [==============================] - 0s 1ms/step - loss: 0.0000e+00 - accuracy: 0.2394\n",
      "Epoch 59/100\n",
      "9/9 [==============================] - 0s 2ms/step - loss: 0.0000e+00 - accuracy: 0.2394\n",
      "Epoch 60/100\n",
      "9/9 [==============================] - 0s 1ms/step - loss: 0.0000e+00 - accuracy: 0.2394\n",
      "Epoch 61/100\n",
      "9/9 [==============================] - 0s 1ms/step - loss: 0.0000e+00 - accuracy: 0.2394\n",
      "Epoch 62/100\n",
      "9/9 [==============================] - 0s 1ms/step - loss: 0.0000e+00 - accuracy: 0.2394\n",
      "Epoch 63/100\n",
      "9/9 [==============================] - 0s 1ms/step - loss: 0.0000e+00 - accuracy: 0.2394\n",
      "Epoch 64/100\n",
      "9/9 [==============================] - 0s 1ms/step - loss: 0.0000e+00 - accuracy: 0.2394\n",
      "Epoch 65/100\n",
      "9/9 [==============================] - 0s 1ms/step - loss: 0.0000e+00 - accuracy: 0.2394\n",
      "Epoch 66/100\n",
      "9/9 [==============================] - 0s 1ms/step - loss: 0.0000e+00 - accuracy: 0.2394\n",
      "Epoch 67/100\n",
      "9/9 [==============================] - 0s 1ms/step - loss: 0.0000e+00 - accuracy: 0.2394\n",
      "Epoch 68/100\n",
      "9/9 [==============================] - 0s 1ms/step - loss: 0.0000e+00 - accuracy: 0.2394\n",
      "Epoch 69/100\n",
      "9/9 [==============================] - 0s 1ms/step - loss: 0.0000e+00 - accuracy: 0.2394\n",
      "Epoch 70/100\n",
      "9/9 [==============================] - 0s 1ms/step - loss: 0.0000e+00 - accuracy: 0.2394\n",
      "Epoch 71/100\n",
      "9/9 [==============================] - 0s 1ms/step - loss: 0.0000e+00 - accuracy: 0.2394\n",
      "Epoch 72/100\n",
      "9/9 [==============================] - 0s 1ms/step - loss: 0.0000e+00 - accuracy: 0.2394\n",
      "Epoch 73/100\n",
      "9/9 [==============================] - 0s 1ms/step - loss: 0.0000e+00 - accuracy: 0.2394\n",
      "Epoch 74/100\n",
      "9/9 [==============================] - 0s 1ms/step - loss: 0.0000e+00 - accuracy: 0.2394\n",
      "Epoch 75/100\n",
      "9/9 [==============================] - 0s 1ms/step - loss: 0.0000e+00 - accuracy: 0.2394\n",
      "Epoch 76/100\n",
      "9/9 [==============================] - 0s 1ms/step - loss: 0.0000e+00 - accuracy: 0.2394\n",
      "Epoch 77/100\n",
      "9/9 [==============================] - 0s 1ms/step - loss: 0.0000e+00 - accuracy: 0.2394\n",
      "Epoch 78/100\n",
      "9/9 [==============================] - 0s 1ms/step - loss: 0.0000e+00 - accuracy: 0.2394\n",
      "Epoch 79/100\n",
      "9/9 [==============================] - 0s 1ms/step - loss: 0.0000e+00 - accuracy: 0.2394\n",
      "Epoch 80/100\n",
      "9/9 [==============================] - 0s 1ms/step - loss: 0.0000e+00 - accuracy: 0.2394\n",
      "Epoch 81/100\n",
      "9/9 [==============================] - 0s 1ms/step - loss: 0.0000e+00 - accuracy: 0.2394\n",
      "Epoch 82/100\n",
      "9/9 [==============================] - 0s 1ms/step - loss: 0.0000e+00 - accuracy: 0.2394\n",
      "Epoch 83/100\n",
      "9/9 [==============================] - 0s 1ms/step - loss: 0.0000e+00 - accuracy: 0.2394\n",
      "Epoch 84/100\n",
      "9/9 [==============================] - 0s 1ms/step - loss: 0.0000e+00 - accuracy: 0.2394\n",
      "Epoch 85/100\n",
      "9/9 [==============================] - 0s 1ms/step - loss: 0.0000e+00 - accuracy: 0.2394\n",
      "Epoch 86/100\n",
      "9/9 [==============================] - 0s 1ms/step - loss: 0.0000e+00 - accuracy: 0.2394\n",
      "Epoch 87/100\n",
      "9/9 [==============================] - 0s 1ms/step - loss: 0.0000e+00 - accuracy: 0.2394\n",
      "Epoch 88/100\n",
      "9/9 [==============================] - 0s 1ms/step - loss: 0.0000e+00 - accuracy: 0.2394\n",
      "Epoch 89/100\n",
      "9/9 [==============================] - 0s 1ms/step - loss: 0.0000e+00 - accuracy: 0.2394\n",
      "Epoch 90/100\n",
      "9/9 [==============================] - 0s 1ms/step - loss: 0.0000e+00 - accuracy: 0.2394\n",
      "Epoch 91/100\n",
      "9/9 [==============================] - 0s 1ms/step - loss: 0.0000e+00 - accuracy: 0.2394\n",
      "Epoch 92/100\n",
      "9/9 [==============================] - 0s 1ms/step - loss: 0.0000e+00 - accuracy: 0.2394\n",
      "Epoch 93/100\n",
      "9/9 [==============================] - 0s 1ms/step - loss: 0.0000e+00 - accuracy: 0.2394\n",
      "Epoch 94/100\n",
      "9/9 [==============================] - 0s 1ms/step - loss: 0.0000e+00 - accuracy: 0.2394\n",
      "Epoch 95/100\n",
      "9/9 [==============================] - 0s 1ms/step - loss: 0.0000e+00 - accuracy: 0.2394\n",
      "Epoch 96/100\n",
      "9/9 [==============================] - 0s 1ms/step - loss: 0.0000e+00 - accuracy: 0.2394\n",
      "Epoch 97/100\n",
      "9/9 [==============================] - 0s 1ms/step - loss: 0.0000e+00 - accuracy: 0.2394\n",
      "Epoch 98/100\n",
      "9/9 [==============================] - 0s 1ms/step - loss: 0.0000e+00 - accuracy: 0.2394\n",
      "Epoch 99/100\n",
      "9/9 [==============================] - 0s 1ms/step - loss: 0.0000e+00 - accuracy: 0.2394\n",
      "Epoch 100/100\n",
      "9/9 [==============================] - 0s 1ms/step - loss: 0.0000e+00 - accuracy: 0.2394\n"
     ]
    },
    {
     "data": {
      "text/plain": [
       "<keras.callbacks.History at 0x1d84ef3af70>"
      ]
     },
     "execution_count": 17,
     "metadata": {},
     "output_type": "execute_result"
    }
   ],
   "source": [
    "model.fit(x_train,y_train,epochs=100)"
   ]
  },
  {
   "cell_type": "code",
   "execution_count": 18,
   "id": "453f781c",
   "metadata": {},
   "outputs": [
    {
     "name": "stdout",
     "output_type": "stream",
     "text": [
      "Model: \"sequential\"\n",
      "_________________________________________________________________\n",
      " Layer (type)                Output Shape              Param #   \n",
      "=================================================================\n",
      " dense (Dense)               (None, 26)                494       \n",
      "                                                                 \n",
      " dense_1 (Dense)             (None, 15)                405       \n",
      "                                                                 \n",
      " dense_2 (Dense)             (None, 1)                 16        \n",
      "                                                                 \n",
      "=================================================================\n",
      "Total params: 915\n",
      "Trainable params: 915\n",
      "Non-trainable params: 0\n",
      "_________________________________________________________________\n"
     ]
    }
   ],
   "source": [
    "model.summary()"
   ]
  },
  {
   "cell_type": "code",
   "execution_count": 19,
   "id": "a6581940",
   "metadata": {},
   "outputs": [
    {
     "data": {
      "text/plain": [
       "{'loss': [0.0,\n",
       "  0.0,\n",
       "  0.0,\n",
       "  0.0,\n",
       "  0.0,\n",
       "  0.0,\n",
       "  0.0,\n",
       "  0.0,\n",
       "  0.0,\n",
       "  0.0,\n",
       "  0.0,\n",
       "  0.0,\n",
       "  0.0,\n",
       "  0.0,\n",
       "  0.0,\n",
       "  0.0,\n",
       "  0.0,\n",
       "  0.0,\n",
       "  0.0,\n",
       "  0.0,\n",
       "  0.0,\n",
       "  0.0,\n",
       "  0.0,\n",
       "  0.0,\n",
       "  0.0,\n",
       "  0.0,\n",
       "  0.0,\n",
       "  0.0,\n",
       "  0.0,\n",
       "  0.0,\n",
       "  0.0,\n",
       "  0.0,\n",
       "  0.0,\n",
       "  0.0,\n",
       "  0.0,\n",
       "  0.0,\n",
       "  0.0,\n",
       "  0.0,\n",
       "  0.0,\n",
       "  0.0,\n",
       "  0.0,\n",
       "  0.0,\n",
       "  0.0,\n",
       "  0.0,\n",
       "  0.0,\n",
       "  0.0,\n",
       "  0.0,\n",
       "  0.0,\n",
       "  0.0,\n",
       "  0.0,\n",
       "  0.0,\n",
       "  0.0,\n",
       "  0.0,\n",
       "  0.0,\n",
       "  0.0,\n",
       "  0.0,\n",
       "  0.0,\n",
       "  0.0,\n",
       "  0.0,\n",
       "  0.0,\n",
       "  0.0,\n",
       "  0.0,\n",
       "  0.0,\n",
       "  0.0,\n",
       "  0.0,\n",
       "  0.0,\n",
       "  0.0,\n",
       "  0.0,\n",
       "  0.0,\n",
       "  0.0,\n",
       "  0.0,\n",
       "  0.0,\n",
       "  0.0,\n",
       "  0.0,\n",
       "  0.0,\n",
       "  0.0,\n",
       "  0.0,\n",
       "  0.0,\n",
       "  0.0,\n",
       "  0.0,\n",
       "  0.0,\n",
       "  0.0,\n",
       "  0.0,\n",
       "  0.0,\n",
       "  0.0,\n",
       "  0.0,\n",
       "  0.0,\n",
       "  0.0,\n",
       "  0.0,\n",
       "  0.0,\n",
       "  0.0,\n",
       "  0.0,\n",
       "  0.0,\n",
       "  0.0,\n",
       "  0.0,\n",
       "  0.0,\n",
       "  0.0,\n",
       "  0.0,\n",
       "  0.0,\n",
       "  0.0],\n",
       " 'accuracy': [0.23938223719596863,\n",
       "  0.23938223719596863,\n",
       "  0.23938223719596863,\n",
       "  0.23938223719596863,\n",
       "  0.23938223719596863,\n",
       "  0.23938223719596863,\n",
       "  0.23938223719596863,\n",
       "  0.23938223719596863,\n",
       "  0.23938223719596863,\n",
       "  0.23938223719596863,\n",
       "  0.23938223719596863,\n",
       "  0.23938223719596863,\n",
       "  0.23938223719596863,\n",
       "  0.23938223719596863,\n",
       "  0.23938223719596863,\n",
       "  0.23938223719596863,\n",
       "  0.23938223719596863,\n",
       "  0.23938223719596863,\n",
       "  0.23938223719596863,\n",
       "  0.23938223719596863,\n",
       "  0.23938223719596863,\n",
       "  0.23938223719596863,\n",
       "  0.23938223719596863,\n",
       "  0.23938223719596863,\n",
       "  0.23938223719596863,\n",
       "  0.23938223719596863,\n",
       "  0.23938223719596863,\n",
       "  0.23938223719596863,\n",
       "  0.23938223719596863,\n",
       "  0.23938223719596863,\n",
       "  0.23938223719596863,\n",
       "  0.23938223719596863,\n",
       "  0.23938223719596863,\n",
       "  0.23938223719596863,\n",
       "  0.23938223719596863,\n",
       "  0.23938223719596863,\n",
       "  0.23938223719596863,\n",
       "  0.23938223719596863,\n",
       "  0.23938223719596863,\n",
       "  0.23938223719596863,\n",
       "  0.23938223719596863,\n",
       "  0.23938223719596863,\n",
       "  0.23938223719596863,\n",
       "  0.23938223719596863,\n",
       "  0.23938223719596863,\n",
       "  0.23938223719596863,\n",
       "  0.23938223719596863,\n",
       "  0.23938223719596863,\n",
       "  0.23938223719596863,\n",
       "  0.23938223719596863,\n",
       "  0.23938223719596863,\n",
       "  0.23938223719596863,\n",
       "  0.23938223719596863,\n",
       "  0.23938223719596863,\n",
       "  0.23938223719596863,\n",
       "  0.23938223719596863,\n",
       "  0.23938223719596863,\n",
       "  0.23938223719596863,\n",
       "  0.23938223719596863,\n",
       "  0.23938223719596863,\n",
       "  0.23938223719596863,\n",
       "  0.23938223719596863,\n",
       "  0.23938223719596863,\n",
       "  0.23938223719596863,\n",
       "  0.23938223719596863,\n",
       "  0.23938223719596863,\n",
       "  0.23938223719596863,\n",
       "  0.23938223719596863,\n",
       "  0.23938223719596863,\n",
       "  0.23938223719596863,\n",
       "  0.23938223719596863,\n",
       "  0.23938223719596863,\n",
       "  0.23938223719596863,\n",
       "  0.23938223719596863,\n",
       "  0.23938223719596863,\n",
       "  0.23938223719596863,\n",
       "  0.23938223719596863,\n",
       "  0.23938223719596863,\n",
       "  0.23938223719596863,\n",
       "  0.23938223719596863,\n",
       "  0.23938223719596863,\n",
       "  0.23938223719596863,\n",
       "  0.23938223719596863,\n",
       "  0.23938223719596863,\n",
       "  0.23938223719596863,\n",
       "  0.23938223719596863,\n",
       "  0.23938223719596863,\n",
       "  0.23938223719596863,\n",
       "  0.23938223719596863,\n",
       "  0.23938223719596863,\n",
       "  0.23938223719596863,\n",
       "  0.23938223719596863,\n",
       "  0.23938223719596863,\n",
       "  0.23938223719596863,\n",
       "  0.23938223719596863,\n",
       "  0.23938223719596863,\n",
       "  0.23938223719596863,\n",
       "  0.23938223719596863,\n",
       "  0.23938223719596863,\n",
       "  0.23938223719596863]}"
      ]
     },
     "execution_count": 19,
     "metadata": {},
     "output_type": "execute_result"
    }
   ],
   "source": [
    "model.history.history"
   ]
  },
  {
   "cell_type": "code",
   "execution_count": 20,
   "id": "6562023c",
   "metadata": {},
   "outputs": [
    {
     "name": "stdout",
     "output_type": "stream",
     "text": [
      "3/3 [==============================] - 0s 4ms/step - loss: 0.0000e+00 - accuracy: 0.2923\n",
      "[0.0, 0.29230770468711853]\n"
     ]
    }
   ],
   "source": [
    "print(model.evaluate(x_test, y_test))   "
   ]
  },
  {
   "cell_type": "code",
   "execution_count": 21,
   "id": "f49def1a",
   "metadata": {},
   "outputs": [
    {
     "name": "stdout",
     "output_type": "stream",
     "text": [
      "3/3 [==============================] - 0s 3ms/step\n"
     ]
    }
   ],
   "source": [
    "y_pred = model.predict(x_test)\n",
    "y_pred = np.round(y_pred)   "
   ]
  },
  {
   "cell_type": "code",
   "execution_count": 22,
   "id": "0260a0ba",
   "metadata": {},
   "outputs": [
    {
     "name": "stdout",
     "output_type": "stream",
     "text": [
      "Classification Report: \n",
      "               precision    recall  f1-score   support\n",
      "\n",
      "           1       0.29      1.00      0.45        19\n",
      "           2       0.00      0.00      0.00        21\n",
      "           3       0.00      0.00      0.00        15\n",
      "           4       0.00      0.00      0.00        10\n",
      "\n",
      "    accuracy                           0.29        65\n",
      "   macro avg       0.07      0.25      0.11        65\n",
      "weighted avg       0.09      0.29      0.13        65\n",
      "\n"
     ]
    }
   ],
   "source": [
    "print(\"Classification Report: \\n\", classification_report(y_test, y_pred))"
   ]
  },
  {
   "cell_type": "code",
   "execution_count": 23,
   "id": "b0ee5cef",
   "metadata": {},
   "outputs": [
    {
     "data": {
      "text/plain": [
       "<AxesSubplot:>"
      ]
     },
     "execution_count": 23,
     "metadata": {},
     "output_type": "execute_result"
    },
    {
     "data": {
      "image/png": "[encoded data removed]",
      "text/plain": [
       "<Figure size 504x360 with 2 Axes>"
      ]
     },
     "metadata": {
      "needs_background": "light"
     },
     "output_type": "display_data"
    }
   ],
   "source": [
    "sns.heatmap(confusion_matrix(y_test, y_pred),annot=True,annot_kws={\"size\": 16})"
   ]
  },
  {
   "cell_type": "markdown",
   "id": "147847ef",
   "metadata": {},
   "source": [
    "## GridSearchCV "
   ]
  },
  {
   "cell_type": "code",
   "execution_count": 24,
   "id": "f9ea9afb",
   "metadata": {},
   "outputs": [
    {
     "data": {
      "text/plain": [
       "dict_keys(['bootstrap', 'ccp_alpha', 'class_weight', 'criterion', 'max_depth', 'max_features', 'max_leaf_nodes', 'max_samples', 'min_impurity_decrease', 'min_samples_leaf', 'min_samples_split', 'min_weight_fraction_leaf', 'n_estimators', 'n_jobs', 'oob_score', 'random_state', 'verbose', 'warm_start'])"
      ]
     },
     "execution_count": 24,
     "metadata": {},
     "output_type": "execute_result"
    }
   ],
   "source": [
    "from sklearn.model_selection import GridSearchCV\n",
    "from sklearn.ensemble import RandomForestClassifier\n",
    "\n",
    "# to check parameters of model\n",
    "RandomForestClassifier().get_params().keys()"
   ]
  },
  {
   "cell_type": "code",
   "execution_count": 25,
   "id": "07a42e32",
   "metadata": {},
   "outputs": [
    {
     "name": "stdout",
     "output_type": "stream",
     "text": [
      "Fitting 10 folds for each of 578 candidates, totalling 5780 fits\n"
     ]
    },
    {
     "data": {
      "text/html": [
       "<style>#sk-container-id-1 {color: black;background-color: white;}#sk-container-id-1 pre{padding: 0;}#sk-container-id-1 div.sk-toggleable {background-color: white;}#sk-container-id-1 label.sk-toggleable__label {cursor: pointer;display: block;width: 100%;margin-bottom: 0;padding: 0.3em;box-sizing: border-box;text-align: center;}#sk-container-id-1 label.sk-toggleable__label-arrow:before {content: \"▸\";float: left;margin-right: 0.25em;color: #696969;}#sk-container-id-1 label.sk-toggleable__label-arrow:hover:before {color: black;}#sk-container-id-1 div.sk-estimator:hover label.sk-toggleable__label-arrow:before {color: black;}#sk-container-id-1 div.sk-toggleable__content {max-height: 0;max-width: 0;overflow: hidden;text-align: left;background-color: #f0f8ff;}#sk-container-id-1 div.sk-toggleable__content pre {margin: 0.2em;color: black;border-radius: 0.25em;background-color: #f0f8ff;}#sk-container-id-1 input.sk-toggleable__control:checked~div.sk-toggleable__content {max-height: 200px;max-width: 100%;overflow: auto;}#sk-container-id-1 input.sk-toggleable__control:checked~label.sk-toggleable__label-arrow:before {content: \"▾\";}#sk-container-id-1 div.sk-estimator input.sk-toggleable__control:checked~label.sk-toggleable__label {background-color: #d4ebff;}#sk-container-id-1 div.sk-label input.sk-toggleable__control:checked~label.sk-toggleable__label {background-color: #d4ebff;}#sk-container-id-1 input.sk-hidden--visually {border: 0;clip: rect(1px 1px 1px 1px);clip: rect(1px, 1px, 1px, 1px);height: 1px;margin: -1px;overflow: hidden;padding: 0;position: absolute;width: 1px;}#sk-container-id-1 div.sk-estimator {font-family: monospace;background-color: #f0f8ff;border: 1px dotted black;border-radius: 0.25em;box-sizing: border-box;margin-bottom: 0.5em;}#sk-container-id-1 div.sk-estimator:hover {background-color: #d4ebff;}#sk-container-id-1 div.sk-parallel-item::after {content: \"\";width: 100%;border-bottom: 1px solid gray;flex-grow: 1;}#sk-container-id-1 div.sk-label:hover label.sk-toggleable__label {background-color: #d4ebff;}#sk-container-id-1 div.sk-serial::before {content: \"\";position: absolute;border-left: 1px solid gray;box-sizing: border-box;top: 0;bottom: 0;left: 50%;z-index: 0;}#sk-container-id-1 div.sk-serial {display: flex;flex-direction: column;align-items: center;background-color: white;padding-right: 0.2em;padding-left: 0.2em;position: relative;}#sk-container-id-1 div.sk-item {position: relative;z-index: 1;}#sk-container-id-1 div.sk-parallel {display: flex;align-items: stretch;justify-content: center;background-color: white;position: relative;}#sk-container-id-1 div.sk-item::before, #sk-container-id-1 div.sk-parallel-item::before {content: \"\";position: absolute;border-left: 1px solid gray;box-sizing: border-box;top: 0;bottom: 0;left: 50%;z-index: -1;}#sk-container-id-1 div.sk-parallel-item {display: flex;flex-direction: column;z-index: 1;position: relative;background-color: white;}#sk-container-id-1 div.sk-parallel-item:first-child::after {align-self: flex-end;width: 50%;}#sk-container-id-1 div.sk-parallel-item:last-child::after {align-self: flex-start;width: 50%;}#sk-container-id-1 div.sk-parallel-item:only-child::after {width: 0;}#sk-container-id-1 div.sk-dashed-wrapped {border: 1px dashed gray;margin: 0 0.4em 0.5em 0.4em;box-sizing: border-box;padding-bottom: 0.4em;background-color: white;}#sk-container-id-1 div.sk-label label {font-family: monospace;font-weight: bold;display: inline-block;line-height: 1.2em;}#sk-container-id-1 div.sk-label-container {text-align: center;}#sk-container-id-1 div.sk-container {/* jupyter's `normalize.less` sets `[hidden] { display: none; }` but bootstrap.min.css set `[hidden] { display: none !important; }` so we also need the `!important` here to be able to override the default hidden behavior on the sphinx rendered scikit-learn.org. See: https://github.com/scikit-learn/scikit-learn/issues/21755 */display: inline-block !important;position: relative;}#sk-container-id-1 div.sk-text-repr-fallback {display: none;}</style><div id=\"sk-container-id-1\" class=\"sk-top-container\"><div class=\"sk-text-repr-fallback\"><pre>GridSearchCV(cv=10, estimator=RandomForestClassifier(), n_jobs=-1,\n",
       "             param_grid={&#x27;bootstrap&#x27;: [True], &#x27;criterion&#x27;: [&#x27;entropy&#x27;],\n",
       "                         &#x27;max_depth&#x27;: [3, 4, 5, 6, 7, 8, 9, 10, 11, 12, 13, 14,\n",
       "                                       15, 16, 17, 18, 19],\n",
       "                         &#x27;max_features&#x27;: [&#x27;auto&#x27;, &#x27;log2&#x27;],\n",
       "                         &#x27;n_estimators&#x27;: [3, 4, 5, 6, 7, 8, 9, 10, 11, 12, 13,\n",
       "                                          14, 15, 16, 17, 18, 19]},\n",
       "             verbose=1)</pre><b>In a Jupyter environment, please rerun this cell to show the HTML representation or trust the notebook. <br />On GitHub, the HTML representation is unable to render, please try loading this page with nbviewer.org.</b></div><div class=\"sk-container\" hidden><div class=\"sk-item sk-dashed-wrapped\"><div class=\"sk-label-container\"><div class=\"sk-label sk-toggleable\"><input class=\"sk-toggleable__control sk-hidden--visually\" id=\"sk-estimator-id-1\" type=\"checkbox\" ><label for=\"sk-estimator-id-1\" class=\"sk-toggleable__label sk-toggleable__label-arrow\">GridSearchCV</label><div class=\"sk-toggleable__content\"><pre>GridSearchCV(cv=10, estimator=RandomForestClassifier(), n_jobs=-1,\n",
       "             param_grid={&#x27;bootstrap&#x27;: [True], &#x27;criterion&#x27;: [&#x27;entropy&#x27;],\n",
       "                         &#x27;max_depth&#x27;: [3, 4, 5, 6, 7, 8, 9, 10, 11, 12, 13, 14,\n",
       "                                       15, 16, 17, 18, 19],\n",
       "                         &#x27;max_features&#x27;: [&#x27;auto&#x27;, &#x27;log2&#x27;],\n",
       "                         &#x27;n_estimators&#x27;: [3, 4, 5, 6, 7, 8, 9, 10, 11, 12, 13,\n",
       "                                          14, 15, 16, 17, 18, 19]},\n",
       "             verbose=1)</pre></div></div></div><div class=\"sk-parallel\"><div class=\"sk-parallel-item\"><div class=\"sk-item\"><div class=\"sk-label-container\"><div class=\"sk-label sk-toggleable\"><input class=\"sk-toggleable__control sk-hidden--visually\" id=\"sk-estimator-id-2\" type=\"checkbox\" ><label for=\"sk-estimator-id-2\" class=\"sk-toggleable__label sk-toggleable__label-arrow\">estimator: RandomForestClassifier</label><div class=\"sk-toggleable__content\"><pre>RandomForestClassifier()</pre></div></div></div><div class=\"sk-serial\"><div class=\"sk-item\"><div class=\"sk-estimator sk-toggleable\"><input class=\"sk-toggleable__control sk-hidden--visually\" id=\"sk-estimator-id-3\" type=\"checkbox\" ><label for=\"sk-estimator-id-3\" class=\"sk-toggleable__label sk-toggleable__label-arrow\">RandomForestClassifier</label><div class=\"sk-toggleable__content\"><pre>RandomForestClassifier()</pre></div></div></div></div></div></div></div></div></div></div>"
      ],
      "text/plain": [
       "GridSearchCV(cv=10, estimator=RandomForestClassifier(), n_jobs=-1,\n",
       "             param_grid={'bootstrap': [True], 'criterion': ['entropy'],\n",
       "                         'max_depth': [3, 4, 5, 6, 7, 8, 9, 10, 11, 12, 13, 14,\n",
       "                                       15, 16, 17, 18, 19],\n",
       "                         'max_features': ['auto', 'log2'],\n",
       "                         'n_estimators': [3, 4, 5, 6, 7, 8, 9, 10, 11, 12, 13,\n",
       "                                          14, 15, 16, 17, 18, 19]},\n",
       "             verbose=1)"
      ]
     },
     "execution_count": 25,
     "metadata": {},
     "output_type": "execute_result"
    }
   ],
   "source": [
    "parameter = {   'bootstrap'   : [True],\n",
    "                'max_depth'   : [i for i in range(3,20)],\n",
    "                'criterion'   : ['entropy'],\n",
    "                'n_estimators': [i for i in range(3,20)],\n",
    "                'max_features': ['auto', 'log2']    }\n",
    "\n",
    "gscv = GridSearchCV(RandomForestClassifier(),parameter,cv=10,n_jobs=-1,verbose=1)\n",
    "\n",
    "gscv.fit(x_train,y_train)"
   ]
  },
  {
   "cell_type": "code",
   "execution_count": 26,
   "id": "12e5dddb",
   "metadata": {},
   "outputs": [
    {
     "data": {
      "text/html": [
       "<style>#sk-container-id-2 {color: black;background-color: white;}#sk-container-id-2 pre{padding: 0;}#sk-container-id-2 div.sk-toggleable {background-color: white;}#sk-container-id-2 label.sk-toggleable__label {cursor: pointer;display: block;width: 100%;margin-bottom: 0;padding: 0.3em;box-sizing: border-box;text-align: center;}#sk-container-id-2 label.sk-toggleable__label-arrow:before {content: \"▸\";float: left;margin-right: 0.25em;color: #696969;}#sk-container-id-2 label.sk-toggleable__label-arrow:hover:before {color: black;}#sk-container-id-2 div.sk-estimator:hover label.sk-toggleable__label-arrow:before {color: black;}#sk-container-id-2 div.sk-toggleable__content {max-height: 0;max-width: 0;overflow: hidden;text-align: left;background-color: #f0f8ff;}#sk-container-id-2 div.sk-toggleable__content pre {margin: 0.2em;color: black;border-radius: 0.25em;background-color: #f0f8ff;}#sk-container-id-2 input.sk-toggleable__control:checked~div.sk-toggleable__content {max-height: 200px;max-width: 100%;overflow: auto;}#sk-container-id-2 input.sk-toggleable__control:checked~label.sk-toggleable__label-arrow:before {content: \"▾\";}#sk-container-id-2 div.sk-estimator input.sk-toggleable__control:checked~label.sk-toggleable__label {background-color: #d4ebff;}#sk-container-id-2 div.sk-label input.sk-toggleable__control:checked~label.sk-toggleable__label {background-color: #d4ebff;}#sk-container-id-2 input.sk-hidden--visually {border: 0;clip: rect(1px 1px 1px 1px);clip: rect(1px, 1px, 1px, 1px);height: 1px;margin: -1px;overflow: hidden;padding: 0;position: absolute;width: 1px;}#sk-container-id-2 div.sk-estimator {font-family: monospace;background-color: #f0f8ff;border: 1px dotted black;border-radius: 0.25em;box-sizing: border-box;margin-bottom: 0.5em;}#sk-container-id-2 div.sk-estimator:hover {background-color: #d4ebff;}#sk-container-id-2 div.sk-parallel-item::after {content: \"\";width: 100%;border-bottom: 1px solid gray;flex-grow: 1;}#sk-container-id-2 div.sk-label:hover label.sk-toggleable__label {background-color: #d4ebff;}#sk-container-id-2 div.sk-serial::before {content: \"\";position: absolute;border-left: 1px solid gray;box-sizing: border-box;top: 0;bottom: 0;left: 50%;z-index: 0;}#sk-container-id-2 div.sk-serial {display: flex;flex-direction: column;align-items: center;background-color: white;padding-right: 0.2em;padding-left: 0.2em;position: relative;}#sk-container-id-2 div.sk-item {position: relative;z-index: 1;}#sk-container-id-2 div.sk-parallel {display: flex;align-items: stretch;justify-content: center;background-color: white;position: relative;}#sk-container-id-2 div.sk-item::before, #sk-container-id-2 div.sk-parallel-item::before {content: \"\";position: absolute;border-left: 1px solid gray;box-sizing: border-box;top: 0;bottom: 0;left: 50%;z-index: -1;}#sk-container-id-2 div.sk-parallel-item {display: flex;flex-direction: column;z-index: 1;position: relative;background-color: white;}#sk-container-id-2 div.sk-parallel-item:first-child::after {align-self: flex-end;width: 50%;}#sk-container-id-2 div.sk-parallel-item:last-child::after {align-self: flex-start;width: 50%;}#sk-container-id-2 div.sk-parallel-item:only-child::after {width: 0;}#sk-container-id-2 div.sk-dashed-wrapped {border: 1px dashed gray;margin: 0 0.4em 0.5em 0.4em;box-sizing: border-box;padding-bottom: 0.4em;background-color: white;}#sk-container-id-2 div.sk-label label {font-family: monospace;font-weight: bold;display: inline-block;line-height: 1.2em;}#sk-container-id-2 div.sk-label-container {text-align: center;}#sk-container-id-2 div.sk-container {/* jupyter's `normalize.less` sets `[hidden] { display: none; }` but bootstrap.min.css set `[hidden] { display: none !important; }` so we also need the `!important` here to be able to override the default hidden behavior on the sphinx rendered scikit-learn.org. See: https://github.com/scikit-learn/scikit-learn/issues/21755 */display: inline-block !important;position: relative;}#sk-container-id-2 div.sk-text-repr-fallback {display: none;}</style><div id=\"sk-container-id-2\" class=\"sk-top-container\"><div class=\"sk-text-repr-fallback\"><pre>RandomForestClassifier(criterion=&#x27;entropy&#x27;, max_depth=8, max_features=&#x27;log2&#x27;,\n",
       "                       n_estimators=16)</pre><b>In a Jupyter environment, please rerun this cell to show the HTML representation or trust the notebook. <br />On GitHub, the HTML representation is unable to render, please try loading this page with nbviewer.org.</b></div><div class=\"sk-container\" hidden><div class=\"sk-item\"><div class=\"sk-estimator sk-toggleable\"><input class=\"sk-toggleable__control sk-hidden--visually\" id=\"sk-estimator-id-4\" type=\"checkbox\" checked><label for=\"sk-estimator-id-4\" class=\"sk-toggleable__label sk-toggleable__label-arrow\">RandomForestClassifier</label><div class=\"sk-toggleable__content\"><pre>RandomForestClassifier(criterion=&#x27;entropy&#x27;, max_depth=8, max_features=&#x27;log2&#x27;,\n",
       "                       n_estimators=16)</pre></div></div></div></div></div>"
      ],
      "text/plain": [
       "RandomForestClassifier(criterion='entropy', max_depth=8, max_features='log2',\n",
       "                       n_estimators=16)"
      ]
     },
     "execution_count": 26,
     "metadata": {},
     "output_type": "execute_result"
    }
   ],
   "source": [
    "gscv.best_estimator_"
   ]
  },
  {
   "cell_type": "code",
   "execution_count": 27,
   "id": "2efb8192",
   "metadata": {},
   "outputs": [
    {
     "data": {
      "text/plain": [
       "{'bootstrap': True,\n",
       " 'criterion': 'entropy',\n",
       " 'max_depth': 8,\n",
       " 'max_features': 'log2',\n",
       " 'n_estimators': 16}"
      ]
     },
     "execution_count": 27,
     "metadata": {},
     "output_type": "execute_result"
    }
   ],
   "source": [
    "gscv.best_params_"
   ]
  },
  {
   "cell_type": "code",
   "execution_count": 28,
   "id": "766fc490",
   "metadata": {},
   "outputs": [
    {
     "data": {
      "text/plain": [
       "0.9538461538461538"
      ]
     },
     "execution_count": 28,
     "metadata": {},
     "output_type": "execute_result"
    }
   ],
   "source": [
    "gscv.best_score_"
   ]
  },
  {
   "cell_type": "code",
   "execution_count": 31,
   "id": "cd9ae744",
   "metadata": {},
   "outputs": [
    {
     "name": "stdout",
     "output_type": "stream",
     "text": [
      "Fitting 10 folds for each of 578 candidates, totalling 5780 fits\n",
      "Fitting 10 folds for each of 578 candidates, totalling 5780 fits\n"
     ]
    },
    {
     "data": {
      "text/plain": [
       "[<matplotlib.lines.Line2D at 0x1d852aee9a0>]"
      ]
     },
     "execution_count": 31,
     "metadata": {},
     "output_type": "execute_result"
    },
    {
     "data": {
      "image/png": "[encoded data removed]",
      "text/plain": [
       "<Figure size 504x360 with 1 Axes>"
      ]
     },
     "metadata": {
      "needs_background": "light"
     },
     "output_type": "display_data"
    }
   ],
   "source": [
    "estimators = np.arange(10, 30, 10)\n",
    "scores = []\n",
    "for n in estimators:\n",
    "    RandomForestClassifier().set_params(n_estimators=n)\n",
    "    gscv.fit(x_train, y_train)\n",
    "    scores.append(gscv.score(x_test, y_test))\n",
    "plt.title(\"Effect of n_estimators\")\n",
    "plt.xlabel(\"n_estimator\")\n",
    "plt.ylabel(\"score\")\n",
    "plt.plot(estimators, scores)"
   ]
  },
  {
   "cell_type": "code",
   "execution_count": 32,
   "id": "0db0de57",
   "metadata": {},
   "outputs": [
    {
     "data": {
      "text/plain": [
       "[0.9076923076923077, 0.9692307692307692]"
      ]
     },
     "execution_count": 32,
     "metadata": {},
     "output_type": "execute_result"
    }
   ],
   "source": [
    "scores"
   ]
  },
  {
   "cell_type": "code",
   "execution_count": 35,
   "id": "1226e475",
   "metadata": {},
   "outputs": [
    {
     "data": {
      "text/plain": [
       "array([4, 3, 2, 4, 2, 1, 2, 3, 2, 1, 1, 1, 2, 1, 1, 2, 3, 4, 2, 2, 1, 3,\n",
       "       1, 1, 2, 1, 1, 4, 2, 2, 1, 4, 2, 1, 3, 4, 2, 2, 2, 3, 2, 1, 1, 3,\n",
       "       1, 2, 3, 3, 1, 1, 4, 4, 2, 3, 2, 2, 4, 3, 4, 3, 2, 2, 2, 3, 1],\n",
       "      dtype=int64)"
      ]
     },
     "execution_count": 35,
     "metadata": {},
     "output_type": "execute_result"
    }
   ],
   "source": [
    "y_pred_gscv = gscv.predict(x_test)\n",
    "y_pred_gscv"
   ]
  },
  {
   "cell_type": "code",
   "execution_count": 39,
   "id": "d9c69803",
   "metadata": {},
   "outputs": [
    {
     "data": {
      "text/plain": [
       "<AxesSubplot:>"
      ]
     },
     "execution_count": 39,
     "metadata": {},
     "output_type": "execute_result"
    },
    {
     "data": {
      "image/png": "[encoded data removed]",
      "text/plain": [
       "<Figure size 504x360 with 2 Axes>"
      ]
     },
     "metadata": {
      "needs_background": "light"
     },
     "output_type": "display_data"
    }
   ],
   "source": [
    "sns.heatmap(confusion_matrix(y_pred_gscv,y_test),annot=True)"
   ]
  },
  {
   "cell_type": "markdown",
   "id": "56a14e7b",
   "metadata": {},
   "source": [
    "## RandomisedSearchCV"
   ]
  },
  {
   "cell_type": "code",
   "execution_count": 34,
   "id": "1818ab50",
   "metadata": {},
   "outputs": [
    {
     "name": "stdout",
     "output_type": "stream",
     "text": [
      "Fitting 10 folds for each of 578 candidates, totalling 5780 fits\n",
      "Fitting 10 folds for each of 578 candidates, totalling 5780 fits\n"
     ]
    },
    {
     "data": {
      "text/plain": [
       "[<matplotlib.lines.Line2D at 0x1d856391130>]"
      ]
     },
     "execution_count": 34,
     "metadata": {},
     "output_type": "execute_result"
    },
    {
     "data": {
      "image/png": "[encoded data removed]",
      "text/plain": [
       "<Figure size 504x360 with 1 Axes>"
      ]
     },
     "metadata": {
      "needs_background": "light"
     },
     "output_type": "display_data"
    }
   ],
   "source": [
    "from sklearn.model_selection import RandomizedSearchCV\n",
    "\n",
    "rncv = GridSearchCV(RandomForestClassifier(),parameter,cv=10,n_jobs=-1,verbose=1)\n",
    "\n",
    "estimators = np.arange(10, 30, 10)\n",
    "scores = []\n",
    "for n in estimators:\n",
    "    RandomForestClassifier().set_params(n_estimators=n)\n",
    "    rncv.fit(x_train, y_train)\n",
    "    scores.append(gscv.score(x_test, y_test))\n",
    "plt.title(\"Effect of n_estimators\")\n",
    "plt.xlabel(\"n_estimator\")\n",
    "plt.ylabel(\"score\")\n",
    "plt.plot(estimators, scores)"
   ]
  },
  {
   "cell_type": "code",
   "execution_count": null,
   "id": "060e9161",
   "metadata": {},
   "outputs": [],
   "source": []
  }
 ],
 "metadata": {
  "kernelspec": {
   "display_name": "Python 3 (ipykernel)",
   "language": "python",
   "name": "python3"
  },
  "language_info": {
   "codemirror_mode": {
    "name": "ipython",
    "version": 3
   },
   "file_extension": ".py",
   "mimetype": "text/x-python",
   "name": "python",
   "nbconvert_exporter": "python",
   "pygments_lexer": "ipython3",
   "version": "3.9.12"
  }
 },
 "nbformat": 4,
 "nbformat_minor": 5
}
